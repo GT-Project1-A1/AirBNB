{
 "cells": [
  {
   "cell_type": "markdown",
   "metadata": {},
   "source": [
    " Does the home price correlate with reviews per month?\n",
    " \n",
    " Does the home price correlate with total reviews?\n",
    "\n",
    "I didn't find any correlation."
   ]
  },
  {
   "cell_type": "code",
   "execution_count": 9,
   "metadata": {},
   "outputs": [
    {
     "name": "stderr",
     "output_type": "stream",
     "text": [
      "C:\\Users\\tingz_kjbzrs4\\anaconda3\\lib\\site-packages\\IPython\\core\\interactiveshell.py:3146: DtypeWarning: Columns (4) have mixed types.Specify dtype option on import or set low_memory=False.\n",
      "  has_raised = await self.run_ast_nodes(code_ast.body, cell_name,\n"
     ]
    }
   ],
   "source": [
    "# Dependencies\n",
    "import requests\n",
    "import json\n",
    "import matplotlib.pyplot as plt\n",
    "import pandas as pd\n",
    "import numpy as np\n",
    "import scipy.stats as st\n",
    "from scipy.stats import linregress\n",
    "\n",
    "#CLEAN THE AIRBNB DATA\n",
    "AirBnB_df = pd.read_csv('Resources/AB_US_2020.csv')\n",
    "\n",
    "#Add date column that states month-year to match city sales df headers\n",
    "last_review = AirBnB_df.loc[:,'last_review']\n",
    "AirBnB_df['last_review'] = AirBnB_df['last_review'].fillna('00/00/00')\n",
    "\n",
    "new_dates_list = []\n",
    "for date in last_review:\n",
    "    if int(date[:2]) > 12:\n",
    "        split_date = date.split('/')\n",
    "        new_date = f'20{split_date[2]}-{split_date[1]}'\n",
    "        new_dates_list.append(new_date)\n",
    "        \n",
    "    elif int(date[:2]) <= 12:\n",
    "        split_date = date.split('/')\n",
    "        new_date = f'20{split_date[2]}-{split_date[0]}'\n",
    "        new_dates_list.append(new_date)\n",
    "\n"
   ]
  },
  {
   "cell_type": "code",
   "execution_count": 10,
   "metadata": {},
   "outputs": [],
   "source": [
    "AirBnB_df['Month/Year'] = new_dates_list\n",
    "\n",
    "\n",
    "#Change New York City to New York\n",
    "AirBnB_df = AirBnB_df.replace(\"New York City\",\"New York\")\n",
    "\n",
    "#Change NaN for review_per_month to 0\n",
    "AirBnB_df['reviews_per_month'] = AirBnB_df['reviews_per_month'].fillna(0)"
   ]
  },
  {
   "cell_type": "code",
   "execution_count": 11,
   "metadata": {},
   "outputs": [],
   "source": [
    "# SALES CITY DATA\n",
    "#Pull in Sales City data\n",
    "sales_city_df = pd.read_csv('Resources/House_Sales_City.csv')\n",
    "\n",
    "#Group Sales City Data and check duplicate cities (will have counts > 1)\n",
    "grouped_df = sales_city_df.groupby('RegionName').count()\n",
    "\n",
    "#Pull rows where values = 1 to get non-duplicate cities\n",
    "sales_city_list = grouped_df[grouped_df['RegionID']==1].index\n",
    "\n",
    "#Unique cities in the AirBnB data\n",
    "thelist = AirBnB_df['city'].unique()\n",
    "\n",
    "#Pull sales city data from cities in AirBnB data\n",
    "clean_city_df = sales_city_df[sales_city_df['RegionName'].isin(sales_city_list)]\n",
    "clean_city_df = clean_city_df[clean_city_df['RegionName'].isin(thelist)]\n",
    "\n",
    "#Merge both data sets\n",
    "merged_data = AirBnB_df.merge(clean_city_df, right_on = 'RegionName', left_on = 'city')"
   ]
  },
  {
   "cell_type": "code",
   "execution_count": 19,
   "metadata": {},
   "outputs": [
    {
     "data": {
      "text/html": [
       "<div>\n",
       "<style scoped>\n",
       "    .dataframe tbody tr th:only-of-type {\n",
       "        vertical-align: middle;\n",
       "    }\n",
       "\n",
       "    .dataframe tbody tr th {\n",
       "        vertical-align: top;\n",
       "    }\n",
       "\n",
       "    .dataframe thead th {\n",
       "        text-align: right;\n",
       "    }\n",
       "</style>\n",
       "<table border=\"1\" class=\"dataframe\">\n",
       "  <thead>\n",
       "    <tr style=\"text-align: right;\">\n",
       "      <th></th>\n",
       "      <th>id</th>\n",
       "      <th>name</th>\n",
       "      <th>host_id</th>\n",
       "      <th>host_name</th>\n",
       "      <th>neighbourhood_group</th>\n",
       "      <th>neighbourhood</th>\n",
       "      <th>latitude</th>\n",
       "      <th>longitude</th>\n",
       "      <th>room_type</th>\n",
       "      <th>price</th>\n",
       "      <th>minimum_nights</th>\n",
       "      <th>number_of_reviews</th>\n",
       "      <th>last_review</th>\n",
       "      <th>reviews_per_month</th>\n",
       "      <th>calculated_host_listings_count</th>\n",
       "      <th>availability_365</th>\n",
       "      <th>city</th>\n",
       "      <th>Month/Year</th>\n",
       "    </tr>\n",
       "  </thead>\n",
       "  <tbody>\n",
       "    <tr>\n",
       "      <th>0</th>\n",
       "      <td>38585</td>\n",
       "      <td>Charming Victorian home - twin beds + breakfast</td>\n",
       "      <td>165529</td>\n",
       "      <td>Evelyne</td>\n",
       "      <td>NaN</td>\n",
       "      <td>28804</td>\n",
       "      <td>35.65146</td>\n",
       "      <td>-82.62792</td>\n",
       "      <td>Private room</td>\n",
       "      <td>60</td>\n",
       "      <td>1</td>\n",
       "      <td>138</td>\n",
       "      <td>16/02/20</td>\n",
       "      <td>1.14</td>\n",
       "      <td>1</td>\n",
       "      <td>0</td>\n",
       "      <td>Asheville</td>\n",
       "      <td>2020-02</td>\n",
       "    </tr>\n",
       "    <tr>\n",
       "      <th>1</th>\n",
       "      <td>80905</td>\n",
       "      <td>French Chic Loft</td>\n",
       "      <td>427027</td>\n",
       "      <td>Celeste</td>\n",
       "      <td>NaN</td>\n",
       "      <td>28801</td>\n",
       "      <td>35.59779</td>\n",
       "      <td>-82.55540</td>\n",
       "      <td>Entire home/apt</td>\n",
       "      <td>470</td>\n",
       "      <td>1</td>\n",
       "      <td>114</td>\n",
       "      <td>07/09/20</td>\n",
       "      <td>1.03</td>\n",
       "      <td>11</td>\n",
       "      <td>288</td>\n",
       "      <td>Asheville</td>\n",
       "      <td>2020-07</td>\n",
       "    </tr>\n",
       "    <tr>\n",
       "      <th>2</th>\n",
       "      <td>108061</td>\n",
       "      <td>Walk to stores/parks/downtown. Fenced yard/Pet...</td>\n",
       "      <td>320564</td>\n",
       "      <td>Lisa</td>\n",
       "      <td>NaN</td>\n",
       "      <td>28801</td>\n",
       "      <td>35.60670</td>\n",
       "      <td>-82.55563</td>\n",
       "      <td>Entire home/apt</td>\n",
       "      <td>75</td>\n",
       "      <td>30</td>\n",
       "      <td>89</td>\n",
       "      <td>30/11/19</td>\n",
       "      <td>0.81</td>\n",
       "      <td>2</td>\n",
       "      <td>298</td>\n",
       "      <td>Asheville</td>\n",
       "      <td>2019-11</td>\n",
       "    </tr>\n",
       "    <tr>\n",
       "      <th>3</th>\n",
       "      <td>155305</td>\n",
       "      <td>Cottage! BonPaul + Sharky's Hostel</td>\n",
       "      <td>746673</td>\n",
       "      <td>BonPaul</td>\n",
       "      <td>NaN</td>\n",
       "      <td>28806</td>\n",
       "      <td>35.57864</td>\n",
       "      <td>-82.59578</td>\n",
       "      <td>Entire home/apt</td>\n",
       "      <td>90</td>\n",
       "      <td>1</td>\n",
       "      <td>267</td>\n",
       "      <td>22/09/20</td>\n",
       "      <td>2.39</td>\n",
       "      <td>5</td>\n",
       "      <td>0</td>\n",
       "      <td>Asheville</td>\n",
       "      <td>2020-09</td>\n",
       "    </tr>\n",
       "    <tr>\n",
       "      <th>4</th>\n",
       "      <td>160594</td>\n",
       "      <td>Historic Grove Park</td>\n",
       "      <td>769252</td>\n",
       "      <td>Elizabeth</td>\n",
       "      <td>NaN</td>\n",
       "      <td>28801</td>\n",
       "      <td>35.61442</td>\n",
       "      <td>-82.54127</td>\n",
       "      <td>Private room</td>\n",
       "      <td>125</td>\n",
       "      <td>30</td>\n",
       "      <td>58</td>\n",
       "      <td>19/10/15</td>\n",
       "      <td>0.52</td>\n",
       "      <td>1</td>\n",
       "      <td>0</td>\n",
       "      <td>Asheville</td>\n",
       "      <td>2015-10</td>\n",
       "    </tr>\n",
       "  </tbody>\n",
       "</table>\n",
       "</div>"
      ],
      "text/plain": [
       "       id                                               name  host_id  \\\n",
       "0   38585    Charming Victorian home - twin beds + breakfast   165529   \n",
       "1   80905                                   French Chic Loft   427027   \n",
       "2  108061  Walk to stores/parks/downtown. Fenced yard/Pet...   320564   \n",
       "3  155305                 Cottage! BonPaul + Sharky's Hostel   746673   \n",
       "4  160594                                Historic Grove Park   769252   \n",
       "\n",
       "   host_name neighbourhood_group neighbourhood  latitude  longitude  \\\n",
       "0    Evelyne                 NaN         28804  35.65146  -82.62792   \n",
       "1    Celeste                 NaN         28801  35.59779  -82.55540   \n",
       "2       Lisa                 NaN         28801  35.60670  -82.55563   \n",
       "3    BonPaul                 NaN         28806  35.57864  -82.59578   \n",
       "4  Elizabeth                 NaN         28801  35.61442  -82.54127   \n",
       "\n",
       "         room_type  price  minimum_nights  number_of_reviews last_review  \\\n",
       "0     Private room     60               1                138    16/02/20   \n",
       "1  Entire home/apt    470               1                114    07/09/20   \n",
       "2  Entire home/apt     75              30                 89    30/11/19   \n",
       "3  Entire home/apt     90               1                267    22/09/20   \n",
       "4     Private room    125              30                 58    19/10/15   \n",
       "\n",
       "   reviews_per_month  calculated_host_listings_count  availability_365  \\\n",
       "0               1.14                               1                 0   \n",
       "1               1.03                              11               288   \n",
       "2               0.81                               2               298   \n",
       "3               2.39                               5                 0   \n",
       "4               0.52                               1                 0   \n",
       "\n",
       "        city Month/Year  \n",
       "0  Asheville    2020-02  \n",
       "1  Asheville    2020-07  \n",
       "2  Asheville    2019-11  \n",
       "3  Asheville    2020-09  \n",
       "4  Asheville    2015-10  "
      ]
     },
     "execution_count": 19,
     "metadata": {},
     "output_type": "execute_result"
    }
   ],
   "source": [
    "AirBnB_df = AirBnB_df.dropna(subset=['reviews_per_month'])\n",
    "AirBnB_df.head()"
   ]
  },
  {
   "cell_type": "code",
   "execution_count": 20,
   "metadata": {},
   "outputs": [],
   "source": [
    "# Does the home price correlate with reviews per month?\n",
    "# reviews_per_month\n",
    "# price\n",
    "# prices = AirBnB_df[\"prices\"]\n",
    "# reviews_per_mo = AirBnB_df[\"reviews_per_month\"]\n",
    "\n",
    "# Define function for creating linear agression and scatter plot\n",
    "def linear_agression(x,y):\n",
    "    print(f\"The r-squared is : {round(st.pearsonr(x, y)[0],18)}\")\n",
    "    (slope, intercept, rvalue, pvalue, stderr) = linregress(x, y)\n",
    "    regress_values = x * slope + intercept\n",
    "    line_eq = \"y = \" + str(round(slope,2)) + \"x + \" + str(round(intercept,2))\n",
    "    plt.scatter(x, y)\n",
    "    plt.plot(x,regress_values,\"r-\")\n",
    "    return line_eq\n",
    "# Define a fuction for annotating\n",
    "def annotate(line_eq, a, b):\n",
    "    plt.annotate(line_eq,(a,b),fontsize=15,color=\"red\")\n"
   ]
  },
  {
   "cell_type": "code",
   "execution_count": 23,
   "metadata": {},
   "outputs": [
    {
     "name": "stdout",
     "output_type": "stream",
     "text": [
      "The r-squared is : -0.0776195567758\n"
     ]
    },
    {
     "data": {
      "image/png": "[encoded data removed]",
      "text/plain": [
       "<Figure size 432x288 with 1 Axes>"
      ]
     },
     "metadata": {
      "needs_background": "light"
     },
     "output_type": "display_data"
    }
   ],
   "source": [
    "equation = linear_agression(AirBnB_df[\"price\"], AirBnB_df[\"reviews_per_month\"])\n",
    "annotate(equation, 0, 0)\n",
    "plt.xlabel(\"AirBnB Prices\")\n",
    "plt.ylabel(\"Reviews Per Month\")\n",
    "plt.savefig(\"../Prices vs Reviews Per Month Linear Regression.png\")"
   ]
  },
  {
   "cell_type": "code",
   "execution_count": 25,
   "metadata": {},
   "outputs": [
    {
     "name": "stdout",
     "output_type": "stream",
     "text": [
      "The r-squared is : -0.07252177856456905\n"
     ]
    },
    {
     "data": {
      "image/png": "[encoded data removed]",
      "text/plain": [
       "<Figure size 432x288 with 1 Axes>"
      ]
     },
     "metadata": {
      "needs_background": "light"
     },
     "output_type": "display_data"
    }
   ],
   "source": [
    "equation = linear_agression(AirBnB_df[\"price\"], AirBnB_df[\"number_of_reviews\"])\n",
    "annotate(equation, 0, 0)\n",
    "plt.xlabel(\"AirBnB Prices\")\n",
    "plt.ylabel(\"Number of Reviews\")\n",
    "plt.savefig(\"../Prices vs Number of Reviews Linear Regression.png\")"
   ]
  },
  {
   "cell_type": "code",
   "execution_count": null,
   "metadata": {},
   "outputs": [],
   "source": []
  }
 ],
 "metadata": {
  "kernelspec": {
   "display_name": "Python [conda env:root] *",
   "language": "python",
   "name": "conda-root-py"
  },
  "language_info": {
   "codemirror_mode": {
    "name": "ipython",
    "version": 3
   },
   "file_extension": ".py",
   "mimetype": "text/x-python",
   "name": "python",
   "nbconvert_exporter": "python",
   "pygments_lexer": "ipython3",
   "version": "3.8.5"
  }
 },
 "nbformat": 4,
 "nbformat_minor": 4
}
